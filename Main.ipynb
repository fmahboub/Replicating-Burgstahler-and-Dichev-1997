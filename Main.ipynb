{
  "nbformat": 4,
  "nbformat_minor": 0,
  "metadata": {
    "colab": {
      "name": "Coding_Exercise_1.ipynb",
      "provenance": [],
      "collapsed_sections": [],
      "authorship_tag": "ABX9TyMKq+A1E5dyWv3ZVAenwMxs",
      "include_colab_link": true
    },
    "kernelspec": {
      "name": "python3",
      "display_name": "Python 3"
    }
  },
  "cells": [
    {
      "cell_type": "markdown",
      "metadata": {
        "id": "view-in-github",
        "colab_type": "text"
      },
      "source": [
        "<a href=\"https://colab.research.google.com/github/fmahboub/Replicating-Burgstahler-and-Dichev-1997-/blob/master/Burgstahler_and_Dichev_1997.ipynb\" target=\"_parent\"><img src=\"https://colab.research.google.com/assets/colab-badge.svg\" alt=\"Open In Colab\"/></a>"
      ]
    },
    {
      "cell_type": "code",
      "metadata": {
        "id": "4U0Gn8UvA6xn",
        "colab_type": "code",
        "outputId": "0d91a3b2-939f-401e-f322-f5cf8ee61f80",
        "colab": {
          "base_uri": "https://localhost:8080/",
          "height": 292
        }
      },
      "source": [
        "pip install wrds"
      ],
      "execution_count": 0,
      "outputs": [
        {
          "output_type": "stream",
          "text": [
            "Collecting wrds\n",
            "  Downloading https://files.pythonhosted.org/packages/1c/35/9d86097c36a8528a1f5bbc3815c161c2dfce7fffc28e10cfd7c9726c1ac0/wrds-3.0.8-py3-none-any.whl\n",
            "Collecting mock\n",
            "  Downloading https://files.pythonhosted.org/packages/30/6a/9bde648117ec7087c89a45de0a8b25aba21d54d3defd08cb24eacded875f/mock-4.0.1-py3-none-any.whl\n",
            "Requirement already satisfied: pandas in /usr/local/lib/python3.6/dist-packages (from wrds) (0.25.3)\n",
            "Requirement already satisfied: sqlalchemy in /usr/local/lib/python3.6/dist-packages (from wrds) (1.3.13)\n",
            "Collecting psycopg2-binary\n",
            "\u001b[?25l  Downloading https://files.pythonhosted.org/packages/1e/c0/16303cef8d54fdcfae7be7880cf471f21449225687f61cc3be2a7ef4e6e5/psycopg2_binary-2.8.4-cp36-cp36m-manylinux1_x86_64.whl (2.9MB)\n",
            "\u001b[K     |████████████████████████████████| 2.9MB 6.3MB/s \n",
            "\u001b[?25hRequirement already satisfied: numpy>=1.13.3 in /usr/local/lib/python3.6/dist-packages (from pandas->wrds) (1.17.5)\n",
            "Requirement already satisfied: pytz>=2017.2 in /usr/local/lib/python3.6/dist-packages (from pandas->wrds) (2018.9)\n",
            "Requirement already satisfied: python-dateutil>=2.6.1 in /usr/local/lib/python3.6/dist-packages (from pandas->wrds) (2.6.1)\n",
            "Requirement already satisfied: six>=1.5 in /usr/local/lib/python3.6/dist-packages (from python-dateutil>=2.6.1->pandas->wrds) (1.12.0)\n",
            "Installing collected packages: mock, psycopg2-binary, wrds\n",
            "Successfully installed mock-4.0.1 psycopg2-binary-2.8.4 wrds-3.0.8\n"
          ],
          "name": "stdout"
        }
      ]
    },
    {
      "cell_type": "code",
      "metadata": {
        "id": "TI8SWCdmB3Md",
        "colab_type": "code",
        "outputId": "611c2701-6354-403b-8dff-5a06e1194645",
        "colab": {
          "base_uri": "https://localhost:8080/",
          "height": 136
        }
      },
      "source": [
        "# Reference: Burgstahler and Dichev (1997)\n",
        "\n",
        "import pandas as pd\n",
        "import wrds\n",
        "import matplotlib.pyplot as plt\n",
        "conn = wrds.Connection()\n",
        "\n",
        "import numpy as np\n",
        "from scipy.stats.mstats import winsorize\n",
        "from scipy import stats"
      ],
      "execution_count": 0,
      "outputs": [
        {
          "output_type": "stream",
          "text": [
            "Enter your WRDS username [root]:faran2\n",
            "Enter your password:··········\n",
            "WRDS recommends setting up a .pgpass file.\n",
            "You can find more info here:\n",
            "https://www.postgresql.org/docs/9.5/static/libpq-pgpass.html.\n",
            "Loading library list...\n",
            "Done\n"
          ],
          "name": "stdout"
        }
      ]
    },
    {
      "cell_type": "code",
      "metadata": {
        "id": "BrpjOb31Bvtn",
        "colab_type": "code",
        "outputId": "56720c9d-3f7f-4c96-8d05-e65dd9baf2eb",
        "colab": {
          "base_uri": "https://localhost:8080/",
          "height": 419
        }
      },
      "source": [
        "# 1. Sample selection\n",
        "funda = conn.raw_sql(\"\"\"\n",
        "                      select gvkey, fyear, ni, csho, prcc_f, sich\n",
        "\t                  from compa.funda where\n",
        "\t                   (consol='C' and indfmt='INDL' and datafmt='STD' and popsrc='D') and\n",
        "                       fyear<1995 and\n",
        "                       fyear>1973\n",
        "                      \"\"\") \n",
        "company = conn.raw_sql(\"\"\"\n",
        "                      select gvkey, sic\n",
        "\t                  from compa.company\n",
        "                     \"\"\") \n",
        "\n",
        "funda1=pd.merge(funda,company,on=['gvkey'])\n",
        "funda1['sic1']=np.where(funda1['sich']>0,funda1['sich'],funda1['sic'])\n",
        "funda1=funda1.drop(['sich','sic'],axis=1)\n",
        "funda1['sic1']=funda1['sic1'].astype(int)\n",
        "\n",
        "# industry restriction\n",
        "indexNames =funda1[ (funda1['sic1'] >= 4400) & (funda1['sic1'] <= 5000) ].index\n",
        "funda1.drop(indexNames , inplace=True)\n",
        "indexNames =funda1[ (funda1['sic1'] >= 6000) & (funda1['sic1'] <= 6500) ].index\n",
        "funda1.drop(indexNames , inplace=True)\n",
        "\n",
        "\n",
        "# 2. Variable construction\n",
        "funda1.describe()\n",
        "funda1['mv']=funda1['csho']*funda1['prcc_f']\n",
        "# Note: mkvalt is not complete. Units for Ni: million, csho: million, \n",
        "\n",
        "# generate lag variables\n",
        "funda1_lag1= funda1[['gvkey','fyear','ni','mv']].copy() \n",
        "funda1_lag1['fyear']=funda1_lag1['fyear']+1\n",
        "funda1_lag1=funda1_lag1.rename(columns={'mv':'mv_lag1','ni':'earn_lag1'})\n",
        "\n",
        "funda1=pd.merge(funda1,funda1_lag1, how='left', on=['gvkey','fyear'])\n",
        "\n",
        "funda1_lag1= funda1[['gvkey','fyear','mv_lag1']].copy() \n",
        "funda1_lag1['fyear']=funda1_lag1['fyear']+1\n",
        "funda1_lag1=funda1_lag1.rename(columns={'mv_lag1':'mv_lag2'})\n",
        "\n",
        "funda1=pd.merge(funda1,funda1_lag1, how='left', on=['gvkey','fyear'])\n",
        "\n",
        "# generate test variables\n",
        "funda1=funda1.rename(columns={'ni':'earn'})\n",
        "\n",
        "funda1['earnchg'] = funda1['earn'] - funda1['earn_lag1']\n",
        "\n",
        "# scale earn with mv_lag1 and earnchg with mv_lag2\n",
        "funda1=funda1.dropna()\n",
        "funda1"
      ],
      "execution_count": 0,
      "outputs": [
        {
          "output_type": "execute_result",
          "data": {
            "text/html": [
              "<div>\n",
              "<style scoped>\n",
              "    .dataframe tbody tr th:only-of-type {\n",
              "        vertical-align: middle;\n",
              "    }\n",
              "\n",
              "    .dataframe tbody tr th {\n",
              "        vertical-align: top;\n",
              "    }\n",
              "\n",
              "    .dataframe thead th {\n",
              "        text-align: right;\n",
              "    }\n",
              "</style>\n",
              "<table border=\"1\" class=\"dataframe\">\n",
              "  <thead>\n",
              "    <tr style=\"text-align: right;\">\n",
              "      <th></th>\n",
              "      <th>gvkey</th>\n",
              "      <th>fyear</th>\n",
              "      <th>earn</th>\n",
              "      <th>csho</th>\n",
              "      <th>prcc_f</th>\n",
              "      <th>sic1</th>\n",
              "      <th>mv</th>\n",
              "      <th>earn_lag1</th>\n",
              "      <th>mv_lag1</th>\n",
              "      <th>mv_lag2</th>\n",
              "      <th>earnchg</th>\n",
              "    </tr>\n",
              "  </thead>\n",
              "  <tbody>\n",
              "    <tr>\n",
              "      <th>2</th>\n",
              "      <td>001000</td>\n",
              "      <td>1976.0</td>\n",
              "      <td>3.434</td>\n",
              "      <td>2.207</td>\n",
              "      <td>5.750</td>\n",
              "      <td>3089</td>\n",
              "      <td>12.690250</td>\n",
              "      <td>2.284</td>\n",
              "      <td>9.178750</td>\n",
              "      <td>4.568750</td>\n",
              "      <td>1.150</td>\n",
              "    </tr>\n",
              "    <tr>\n",
              "      <th>3</th>\n",
              "      <td>001000</td>\n",
              "      <td>1977.0</td>\n",
              "      <td>1.928</td>\n",
              "      <td>2.226</td>\n",
              "      <td>9.250</td>\n",
              "      <td>3089</td>\n",
              "      <td>20.590500</td>\n",
              "      <td>3.434</td>\n",
              "      <td>12.690250</td>\n",
              "      <td>9.178750</td>\n",
              "      <td>-1.506</td>\n",
              "    </tr>\n",
              "    <tr>\n",
              "      <th>11</th>\n",
              "      <td>001001</td>\n",
              "      <td>1985.0</td>\n",
              "      <td>2.576</td>\n",
              "      <td>3.988</td>\n",
              "      <td>10.125</td>\n",
              "      <td>5812</td>\n",
              "      <td>40.378500</td>\n",
              "      <td>1.138</td>\n",
              "      <td>13.380000</td>\n",
              "      <td>25.868000</td>\n",
              "      <td>1.438</td>\n",
              "    </tr>\n",
              "    <tr>\n",
              "      <th>17</th>\n",
              "      <td>001003</td>\n",
              "      <td>1985.0</td>\n",
              "      <td>0.236</td>\n",
              "      <td>2.683</td>\n",
              "      <td>4.500</td>\n",
              "      <td>5712</td>\n",
              "      <td>12.073500</td>\n",
              "      <td>0.387</td>\n",
              "      <td>7.378250</td>\n",
              "      <td>14.085750</td>\n",
              "      <td>-0.151</td>\n",
              "    </tr>\n",
              "    <tr>\n",
              "      <th>18</th>\n",
              "      <td>001003</td>\n",
              "      <td>1986.0</td>\n",
              "      <td>0.793</td>\n",
              "      <td>2.683</td>\n",
              "      <td>4.500</td>\n",
              "      <td>5712</td>\n",
              "      <td>12.073500</td>\n",
              "      <td>0.236</td>\n",
              "      <td>12.073500</td>\n",
              "      <td>7.378250</td>\n",
              "      <td>0.557</td>\n",
              "    </tr>\n",
              "    <tr>\n",
              "      <th>...</th>\n",
              "      <td>...</td>\n",
              "      <td>...</td>\n",
              "      <td>...</td>\n",
              "      <td>...</td>\n",
              "      <td>...</td>\n",
              "      <td>...</td>\n",
              "      <td>...</td>\n",
              "      <td>...</td>\n",
              "      <td>...</td>\n",
              "      <td>...</td>\n",
              "      <td>...</td>\n",
              "    </tr>\n",
              "    <tr>\n",
              "      <th>142092</th>\n",
              "      <td>153954</td>\n",
              "      <td>1988.0</td>\n",
              "      <td>3.498</td>\n",
              "      <td>36.657</td>\n",
              "      <td>2.000</td>\n",
              "      <td>1311</td>\n",
              "      <td>73.314000</td>\n",
              "      <td>4.199</td>\n",
              "      <td>82.539789</td>\n",
              "      <td>67.737595</td>\n",
              "      <td>-0.701</td>\n",
              "    </tr>\n",
              "    <tr>\n",
              "      <th>142093</th>\n",
              "      <td>153954</td>\n",
              "      <td>1989.0</td>\n",
              "      <td>3.446</td>\n",
              "      <td>36.657</td>\n",
              "      <td>2.891</td>\n",
              "      <td>1311</td>\n",
              "      <td>105.975379</td>\n",
              "      <td>3.498</td>\n",
              "      <td>73.314000</td>\n",
              "      <td>82.539789</td>\n",
              "      <td>-0.052</td>\n",
              "    </tr>\n",
              "    <tr>\n",
              "      <th>142094</th>\n",
              "      <td>153954</td>\n",
              "      <td>1990.0</td>\n",
              "      <td>2.912</td>\n",
              "      <td>36.657</td>\n",
              "      <td>2.547</td>\n",
              "      <td>1311</td>\n",
              "      <td>93.365376</td>\n",
              "      <td>3.446</td>\n",
              "      <td>105.975379</td>\n",
              "      <td>73.314000</td>\n",
              "      <td>-0.534</td>\n",
              "    </tr>\n",
              "    <tr>\n",
              "      <th>142095</th>\n",
              "      <td>153954</td>\n",
              "      <td>1991.0</td>\n",
              "      <td>-9.710</td>\n",
              "      <td>36.657</td>\n",
              "      <td>2.344</td>\n",
              "      <td>1311</td>\n",
              "      <td>85.924003</td>\n",
              "      <td>2.912</td>\n",
              "      <td>93.365376</td>\n",
              "      <td>105.975379</td>\n",
              "      <td>-12.622</td>\n",
              "    </tr>\n",
              "    <tr>\n",
              "      <th>142096</th>\n",
              "      <td>153954</td>\n",
              "      <td>1992.0</td>\n",
              "      <td>-24.038</td>\n",
              "      <td>36.657</td>\n",
              "      <td>1.797</td>\n",
              "      <td>1311</td>\n",
              "      <td>65.872626</td>\n",
              "      <td>-9.710</td>\n",
              "      <td>85.924003</td>\n",
              "      <td>93.365376</td>\n",
              "      <td>-14.328</td>\n",
              "    </tr>\n",
              "  </tbody>\n",
              "</table>\n",
              "<p>71794 rows × 11 columns</p>\n",
              "</div>"
            ],
            "text/plain": [
              "         gvkey   fyear    earn  ...     mv_lag1     mv_lag2  earnchg\n",
              "2       001000  1976.0   3.434  ...    9.178750    4.568750    1.150\n",
              "3       001000  1977.0   1.928  ...   12.690250    9.178750   -1.506\n",
              "11      001001  1985.0   2.576  ...   13.380000   25.868000    1.438\n",
              "17      001003  1985.0   0.236  ...    7.378250   14.085750   -0.151\n",
              "18      001003  1986.0   0.793  ...   12.073500    7.378250    0.557\n",
              "...        ...     ...     ...  ...         ...         ...      ...\n",
              "142092  153954  1988.0   3.498  ...   82.539789   67.737595   -0.701\n",
              "142093  153954  1989.0   3.446  ...   73.314000   82.539789   -0.052\n",
              "142094  153954  1990.0   2.912  ...  105.975379   73.314000   -0.534\n",
              "142095  153954  1991.0  -9.710  ...   93.365376  105.975379  -12.622\n",
              "142096  153954  1992.0 -24.038  ...   85.924003   93.365376  -14.328\n",
              "\n",
              "[71794 rows x 11 columns]"
            ]
          },
          "metadata": {
            "tags": []
          },
          "execution_count": 3
        }
      ]
    },
    {
      "cell_type": "code",
      "metadata": {
        "id": "WQ4v1xrtjFVT",
        "colab_type": "code",
        "colab": {}
      },
      "source": [
        "# winsorize before doing scales.\n",
        "varlist=['earn','mv_lag1','mv_lag2','earn_lag1']\n",
        "for var in varlist:\n",
        "    funda1[var] = funda1[var].replace(np.Inf, np.nan)\n",
        "    funda1[var]=np.where(funda1[var].isnull(), np.nan, winsorize(funda1[var], limits=(0.01,0.01)))\n",
        "\n",
        "# Do scales\n",
        "funda1['earn_s']=funda1['earn']/funda1['mv_lag1']\n",
        "funda1['earnchg_s'] = funda1['earnchg']/funda1['mv_lag2']"
      ],
      "execution_count": 0,
      "outputs": []
    },
    {
      "cell_type": "code",
      "metadata": {
        "id": "ovfO2BOHjtbC",
        "colab_type": "code",
        "colab": {}
      },
      "source": [
        "funda3=funda1[['gvkey','fyear','earn_s']]\n",
        "# winsorize again for the scaled variables. \n",
        "funda2=funda3.dropna()\n",
        "funda2.describe()\n",
        "\n",
        "varlist=['earn_s']\n",
        "for var in varlist:\n",
        "    funda2[var] = funda2[var].replace(np.Inf, np.nan)\n",
        "    funda2[var]=np.where(funda2[var].isnull(), np.nan, winsorize(funda2[var], limits=(0.01,0.01)))"
      ],
      "execution_count": 0,
      "outputs": []
    },
    {
      "cell_type": "code",
      "metadata": {
        "id": "4GjLWUxKQZFy",
        "colab_type": "code",
        "outputId": "b118ef07-3649-4398-8138-e9bbff6045c3",
        "colab": {
          "base_uri": "https://localhost:8080/",
          "height": 391
        }
      },
      "source": [
        "# Table 1 (Panel B)\n",
        "destable=funda2.describe().transpose()  # pooled sample\n",
        "desearn_s=funda2.groupby('fyear')['earn_s'].describe() # Table 1 Panel B\n",
        "desearn_s = desearn_s.round(decimals=2)\n",
        "desearn_s = desearn_s.drop(desearn_s.columns[[3, 7]], axis=1)\n",
        "print(\"-------------- Table 1 Panel B -------------\")\n",
        "print(desearn_s)"
      ],
      "execution_count": 0,
      "outputs": [
        {
          "output_type": "stream",
          "text": [
            "-------------- Table 1 Panel B -------------\n",
            "         count  mean   std   25%   50%   75%\n",
            "fyear                                       \n",
            "1976.0  3019.0  0.13  0.34  0.08  0.16  0.25\n",
            "1977.0  2942.0  0.11  0.29  0.08  0.14  0.21\n",
            "1978.0  2849.0  0.14  0.26  0.10  0.16  0.23\n",
            "1979.0  2790.0  0.13  0.26  0.09  0.16  0.23\n",
            "1980.0  2978.0  0.09  0.31  0.07  0.13  0.19\n",
            "1981.0  3243.0  0.07  0.28  0.03  0.10  0.17\n",
            "1982.0  3389.0  0.01  0.32 -0.01  0.07  0.14\n",
            "1983.0  3853.0  0.01  0.34 -0.03  0.07  0.13\n",
            "1984.0  3931.0  0.01  0.27 -0.02  0.06  0.11\n",
            "1985.0  4102.0 -0.04  0.35 -0.06  0.05  0.10\n",
            "1986.0  4125.0 -0.05  0.35 -0.07  0.04  0.09\n",
            "1987.0  4104.0 -0.03  0.31 -0.05  0.05  0.09\n",
            "1988.0  4176.0 -0.03  0.34 -0.06  0.05  0.10\n",
            "1989.0  4368.0 -0.05  0.34 -0.08  0.04  0.10\n",
            "1990.0  4314.0 -0.08  0.38 -0.09  0.03  0.08\n",
            "1991.0  4307.0 -0.12  0.46 -0.13  0.03  0.09\n",
            "1992.0  4322.0 -0.07  0.39 -0.08  0.03  0.08\n",
            "1993.0  4387.0 -0.04  0.34 -0.06  0.04  0.08\n",
            "1994.0  4595.0 -0.02  0.27 -0.03  0.05  0.08\n"
          ],
          "name": "stdout"
        }
      ]
    },
    {
      "cell_type": "code",
      "metadata": {
        "id": "esWHshs-l8vp",
        "colab_type": "code",
        "colab": {}
      },
      "source": [
        "funda4=funda1[['gvkey','fyear','earnchg_s']]\n",
        "# winsorize again for the scaled variables. \n",
        "funda5=funda4.dropna()\n",
        "funda5.describe()\n",
        "\n",
        "varlist=['earnchg_s']\n",
        "for var in varlist:\n",
        "    funda5[var] = funda5[var].replace(np.Inf, np.nan)\n",
        "    funda5[var]=np.where(funda5[var].isnull(), np.nan, winsorize(funda5[var], limits=(0.03,0.03)))"
      ],
      "execution_count": 0,
      "outputs": []
    },
    {
      "cell_type": "code",
      "metadata": {
        "id": "aisPEj0ymSK8",
        "colab_type": "code",
        "outputId": "2ce9fffa-e6ea-4a2b-aefe-7343601461ee",
        "colab": {
          "base_uri": "https://localhost:8080/",
          "height": 391
        }
      },
      "source": [
        "# Table 1 (Panel A)\n",
        "destable=funda5.describe().transpose()  # pooled sample\n",
        "desearn_s=funda5.groupby('fyear')['earnchg_s'].describe() # Table 1 Panel A\n",
        "desearn_s = desearn_s.round(decimals=2)\n",
        "desearn_s = desearn_s.drop(desearn_s.columns[[3, 7]], axis=1)\n",
        "print(\"-------------- Table 1 Panel A -------------\")\n",
        "print(desearn_s)"
      ],
      "execution_count": 0,
      "outputs": [
        {
          "output_type": "stream",
          "text": [
            "-------------- Table 1 Panel A -------------\n",
            "         count  mean   std   25%   50%   75%\n",
            "fyear                                       \n",
            "1976.0  3019.0  0.07  0.25 -0.00  0.05  0.15\n",
            "1977.0  2942.0  0.04  0.21 -0.02  0.03  0.09\n",
            "1978.0  2849.0  0.06  0.19  0.00  0.03  0.09\n",
            "1979.0  2790.0  0.03  0.20 -0.02  0.03  0.08\n",
            "1980.0  2978.0 -0.00  0.21 -0.05  0.01  0.06\n",
            "1981.0  3243.0  0.01  0.21 -0.04  0.01  0.07\n",
            "1982.0  3389.0 -0.02  0.20 -0.08 -0.01  0.03\n",
            "1983.0  3853.0  0.03  0.21 -0.04  0.02  0.08\n",
            "1984.0  3931.0  0.02  0.22 -0.04  0.01  0.07\n",
            "1985.0  4102.0 -0.01  0.18 -0.06 -0.00  0.03\n",
            "1986.0  4125.0  0.01  0.23 -0.06  0.00  0.06\n",
            "1987.0  4104.0  0.03  0.22 -0.03  0.01  0.08\n",
            "1988.0  4176.0  0.01  0.20 -0.03  0.01  0.06\n",
            "1989.0  4368.0 -0.00  0.22 -0.06  0.00  0.05\n",
            "1990.0  4314.0 -0.01  0.22 -0.07  0.00  0.05\n",
            "1991.0  4307.0 -0.00  0.22 -0.07  0.00  0.05\n",
            "1992.0  4322.0  0.02  0.26 -0.06  0.01  0.09\n",
            "1993.0  4387.0  0.02  0.23 -0.04  0.01  0.07\n",
            "1994.0  4595.0  0.03  0.22 -0.03  0.02  0.07\n"
          ],
          "name": "stdout"
        }
      ]
    },
    {
      "cell_type": "code",
      "metadata": {
        "id": "uuaHQ1QKQUcY",
        "colab_type": "code",
        "outputId": "cc0ef48e-59a0-4e05-db9c-51dccf328ef5",
        "colab": {
          "base_uri": "https://localhost:8080/",
          "height": 312
        }
      },
      "source": [
        "# Figure 3\n",
        "\n",
        "plt.hist(funda2['earn_s'], bins=50)\n",
        "plt.axvline(x=0, color='k', linestyle='--')\n",
        "plt.xlabel('Earnings Interval')\n",
        "plt.ylabel('Frequency')\n",
        "plt.title('Fig. 3 Empirical Distribution of Annual Net Income')\n",
        "plt.show"
      ],
      "execution_count": 0,
      "outputs": [
        {
          "output_type": "execute_result",
          "data": {
            "text/plain": [
              "<function matplotlib.pyplot.show>"
            ]
          },
          "metadata": {
            "tags": []
          },
          "execution_count": 56
        },
        {
          "output_type": "display_data",
          "data": {
            "image/png": "[encoded data removed]",
            "text/plain": [
              "<Figure size 432x288 with 1 Axes>"
            ]
          },
          "metadata": {
            "tags": []
          }
        }
      ]
    },
    {
      "cell_type": "code",
      "metadata": {
        "id": "rj7p7SRmo7-m",
        "colab_type": "code",
        "outputId": "bdd44f6d-f1d8-4ca9-b961-6ff560063a22",
        "colab": {
          "base_uri": "https://localhost:8080/",
          "height": 312
        }
      },
      "source": [
        "# Figure 1\n",
        "\n",
        "plt.hist(funda5['earnchg_s'], bins=75)\n",
        "plt.axvline(x=0, color='k', linestyle='--')\n",
        "plt.xlabel('Change in Earnings Interval')\n",
        "plt.ylabel('Frequency')\n",
        "plt.title('Fig. 1 Empirical distribution Change in Annual Net Income')\n",
        "plt.show"
      ],
      "execution_count": 0,
      "outputs": [
        {
          "output_type": "execute_result",
          "data": {
            "text/plain": [
              "<function matplotlib.pyplot.show>"
            ]
          },
          "metadata": {
            "tags": []
          },
          "execution_count": 57
        },
        {
          "output_type": "display_data",
          "data": {
            "image/png": "[encoded data removed]",
            "text/plain": [
              "<Figure size 432x288 with 1 Axes>"
            ]
          },
          "metadata": {
            "tags": []
          }
        }
      ]
    }
  ]
}
