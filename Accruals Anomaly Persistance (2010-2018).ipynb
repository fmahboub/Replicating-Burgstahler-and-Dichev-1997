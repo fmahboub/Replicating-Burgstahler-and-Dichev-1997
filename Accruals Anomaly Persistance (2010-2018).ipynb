{
  "nbformat": 4,
  "nbformat_minor": 0,
  "metadata": {
    "colab": {
      "name": "(2018) Coding_Exercise_1.ipynb",
      "provenance": [],
      "collapsed_sections": [],
      "authorship_tag": "ABX9TyM/0g0C3Zzel0jAbwl78Usa",
      "include_colab_link": true
    },
    "kernelspec": {
      "name": "python3",
      "display_name": "Python 3"
    }
  },
  "cells": [
    {
      "cell_type": "markdown",
      "metadata": {
        "id": "view-in-github",
        "colab_type": "text"
      },
      "source": [
        "<a href=\"https://colab.research.google.com/github/fmahboub/Replicating-Burgstahler-and-Dichev-1997/blob/master/Accruals%20Anomaly%20Persistance%20(2010-2018).ipynb\" target=\"_parent\"><img src=\"https://colab.research.google.com/assets/colab-badge.svg\" alt=\"Open In Colab\"/></a>"
      ]
    },
    {
      "cell_type": "code",
      "metadata": {
        "id": "4U0Gn8UvA6xn",
        "colab_type": "code",
        "outputId": "ab73f6c8-b96a-4b85-eb15-3ac54af5d1d9",
        "colab": {
          "base_uri": "https://localhost:8080/",
          "height": 292
        }
      },
      "source": [
        "pip install wrds"
      ],
      "execution_count": 0,
      "outputs": [
        {
          "output_type": "stream",
          "text": [
            "Collecting wrds\n",
            "  Downloading https://files.pythonhosted.org/packages/1c/35/9d86097c36a8528a1f5bbc3815c161c2dfce7fffc28e10cfd7c9726c1ac0/wrds-3.0.8-py3-none-any.whl\n",
            "Requirement already satisfied: pandas in /usr/local/lib/python3.6/dist-packages (from wrds) (0.25.3)\n",
            "Collecting psycopg2-binary\n",
            "\u001b[?25l  Downloading https://files.pythonhosted.org/packages/1e/c0/16303cef8d54fdcfae7be7880cf471f21449225687f61cc3be2a7ef4e6e5/psycopg2_binary-2.8.4-cp36-cp36m-manylinux1_x86_64.whl (2.9MB)\n",
            "\u001b[K     |████████████████████████████████| 2.9MB 4.0MB/s \n",
            "\u001b[?25hCollecting mock\n",
            "  Downloading https://files.pythonhosted.org/packages/30/6a/9bde648117ec7087c89a45de0a8b25aba21d54d3defd08cb24eacded875f/mock-4.0.1-py3-none-any.whl\n",
            "Requirement already satisfied: sqlalchemy in /usr/local/lib/python3.6/dist-packages (from wrds) (1.3.13)\n",
            "Requirement already satisfied: python-dateutil>=2.6.1 in /usr/local/lib/python3.6/dist-packages (from pandas->wrds) (2.6.1)\n",
            "Requirement already satisfied: pytz>=2017.2 in /usr/local/lib/python3.6/dist-packages (from pandas->wrds) (2018.9)\n",
            "Requirement already satisfied: numpy>=1.13.3 in /usr/local/lib/python3.6/dist-packages (from pandas->wrds) (1.17.5)\n",
            "Requirement already satisfied: six>=1.5 in /usr/local/lib/python3.6/dist-packages (from python-dateutil>=2.6.1->pandas->wrds) (1.12.0)\n",
            "Installing collected packages: psycopg2-binary, mock, wrds\n",
            "Successfully installed mock-4.0.1 psycopg2-binary-2.8.4 wrds-3.0.8\n"
          ],
          "name": "stdout"
        }
      ]
    },
    {
      "cell_type": "code",
      "metadata": {
        "id": "TI8SWCdmB3Md",
        "colab_type": "code",
        "outputId": "5322a68d-f76e-4a34-e5d9-af5c54ec9ad2",
        "colab": {
          "base_uri": "https://localhost:8080/",
          "height": 136
        }
      },
      "source": [
        "# Reference: Burgstahler and Dichev (1997)\n",
        "\n",
        "import pandas as pd\n",
        "import wrds\n",
        "import matplotlib.pyplot as plt\n",
        "conn = wrds.Connection()\n",
        "\n",
        "import numpy as np\n",
        "from scipy.stats.mstats import winsorize\n",
        "from scipy import stats"
      ],
      "execution_count": 0,
      "outputs": [
        {
          "output_type": "stream",
          "text": [
            "Enter your WRDS username [root]:faran2\n",
            "Enter your password:··········\n",
            "WRDS recommends setting up a .pgpass file.\n",
            "You can find more info here:\n",
            "https://www.postgresql.org/docs/9.5/static/libpq-pgpass.html.\n",
            "Loading library list...\n",
            "Done\n"
          ],
          "name": "stdout"
        }
      ]
    },
    {
      "cell_type": "code",
      "metadata": {
        "id": "BrpjOb31Bvtn",
        "colab_type": "code",
        "outputId": "7e0d2db3-f77e-444c-f093-3741f120138a",
        "colab": {
          "base_uri": "https://localhost:8080/",
          "height": 419
        }
      },
      "source": [
        "# 1. Sample selection\n",
        "funda = conn.raw_sql(\"\"\"\n",
        "                      select gvkey, fyear, ni, csho, prcc_f, sich\n",
        "\t                  from compa.funda where\n",
        "\t                   (consol='C' and indfmt='INDL' and datafmt='STD' and popsrc='D') and\n",
        "                       fyear<2019 and\n",
        "                       fyear>2007\n",
        "                      \"\"\") \n",
        "company = conn.raw_sql(\"\"\"\n",
        "                      select gvkey, sic\n",
        "\t                  from compa.company\n",
        "                     \"\"\") \n",
        "\n",
        "funda1=pd.merge(funda,company,on=['gvkey'])\n",
        "funda1['sic1']=np.where(funda1['sich']>0,funda1['sich'],funda1['sic'])\n",
        "funda1=funda1.drop(['sich','sic'],axis=1)\n",
        "funda1['sic1']=funda1['sic1'].astype(int)\n",
        "\n",
        "# industry restriction\n",
        "indexNames =funda1[ (funda1['sic1'] >= 4400) & (funda1['sic1'] <= 5000) ].index\n",
        "funda1.drop(indexNames , inplace=True)\n",
        "indexNames =funda1[ (funda1['sic1'] >= 6000) & (funda1['sic1'] <= 6500) ].index\n",
        "funda1.drop(indexNames , inplace=True)\n",
        "\n",
        "\n",
        "# 2. Variable construction\n",
        "funda1.describe()\n",
        "funda1['mv']=funda1['csho']*funda1['prcc_f']\n",
        "# Note: mkvalt is not complete. Units for Ni: million, csho: million, \n",
        "\n",
        "# generate lag variables\n",
        "funda1_lag1= funda1[['gvkey','fyear','ni','mv']].copy() \n",
        "funda1_lag1['fyear']=funda1_lag1['fyear']+1\n",
        "funda1_lag1=funda1_lag1.rename(columns={'mv':'mv_lag1','ni':'earn_lag1'})\n",
        "\n",
        "funda1=pd.merge(funda1,funda1_lag1, how='left', on=['gvkey','fyear'])\n",
        "\n",
        "funda1_lag1= funda1[['gvkey','fyear','mv_lag1']].copy() \n",
        "funda1_lag1['fyear']=funda1_lag1['fyear']+1\n",
        "funda1_lag1=funda1_lag1.rename(columns={'mv_lag1':'mv_lag2'})\n",
        "\n",
        "funda1=pd.merge(funda1,funda1_lag1, how='left', on=['gvkey','fyear'])\n",
        "\n",
        "# generate test variables\n",
        "funda1=funda1.rename(columns={'ni':'earn'})\n",
        "\n",
        "funda1['earnchg'] = funda1['earn'] - funda1['earn_lag1']\n",
        "\n",
        "# scale earn with mv_lag1 and earnchg with mv_lag2\n",
        "funda1=funda1.dropna()\n",
        "funda1"
      ],
      "execution_count": 0,
      "outputs": [
        {
          "output_type": "execute_result",
          "data": {
            "text/html": [
              "<div>\n",
              "<style scoped>\n",
              "    .dataframe tbody tr th:only-of-type {\n",
              "        vertical-align: middle;\n",
              "    }\n",
              "\n",
              "    .dataframe tbody tr th {\n",
              "        vertical-align: top;\n",
              "    }\n",
              "\n",
              "    .dataframe thead th {\n",
              "        text-align: right;\n",
              "    }\n",
              "</style>\n",
              "<table border=\"1\" class=\"dataframe\">\n",
              "  <thead>\n",
              "    <tr style=\"text-align: right;\">\n",
              "      <th></th>\n",
              "      <th>gvkey</th>\n",
              "      <th>fyear</th>\n",
              "      <th>earn</th>\n",
              "      <th>csho</th>\n",
              "      <th>prcc_f</th>\n",
              "      <th>sic1</th>\n",
              "      <th>mv</th>\n",
              "      <th>earn_lag1</th>\n",
              "      <th>mv_lag1</th>\n",
              "      <th>mv_lag2</th>\n",
              "      <th>earnchg</th>\n",
              "    </tr>\n",
              "  </thead>\n",
              "  <tbody>\n",
              "    <tr>\n",
              "      <th>2</th>\n",
              "      <td>001004</td>\n",
              "      <td>2010.0</td>\n",
              "      <td>69.826</td>\n",
              "      <td>39.781</td>\n",
              "      <td>26.3900</td>\n",
              "      <td>5080</td>\n",
              "      <td>1049.820590</td>\n",
              "      <td>44.628</td>\n",
              "      <td>777.834800</td>\n",
              "      <td>571.594800</td>\n",
              "      <td>25.198</td>\n",
              "    </tr>\n",
              "    <tr>\n",
              "      <th>3</th>\n",
              "      <td>001004</td>\n",
              "      <td>2011.0</td>\n",
              "      <td>67.723</td>\n",
              "      <td>40.273</td>\n",
              "      <td>12.0500</td>\n",
              "      <td>5080</td>\n",
              "      <td>485.289650</td>\n",
              "      <td>69.826</td>\n",
              "      <td>1049.820590</td>\n",
              "      <td>777.834800</td>\n",
              "      <td>-2.103</td>\n",
              "    </tr>\n",
              "    <tr>\n",
              "      <th>4</th>\n",
              "      <td>001004</td>\n",
              "      <td>2012.0</td>\n",
              "      <td>55.000</td>\n",
              "      <td>39.382</td>\n",
              "      <td>20.0600</td>\n",
              "      <td>5080</td>\n",
              "      <td>790.002920</td>\n",
              "      <td>67.723</td>\n",
              "      <td>485.289650</td>\n",
              "      <td>1049.820590</td>\n",
              "      <td>-12.723</td>\n",
              "    </tr>\n",
              "    <tr>\n",
              "      <th>5</th>\n",
              "      <td>001004</td>\n",
              "      <td>2013.0</td>\n",
              "      <td>72.900</td>\n",
              "      <td>39.560</td>\n",
              "      <td>24.3000</td>\n",
              "      <td>5080</td>\n",
              "      <td>961.308000</td>\n",
              "      <td>55.000</td>\n",
              "      <td>790.002920</td>\n",
              "      <td>485.289650</td>\n",
              "      <td>17.900</td>\n",
              "    </tr>\n",
              "    <tr>\n",
              "      <th>6</th>\n",
              "      <td>001004</td>\n",
              "      <td>2014.0</td>\n",
              "      <td>10.200</td>\n",
              "      <td>35.423</td>\n",
              "      <td>29.5400</td>\n",
              "      <td>5080</td>\n",
              "      <td>1046.395420</td>\n",
              "      <td>72.900</td>\n",
              "      <td>961.308000</td>\n",
              "      <td>790.002920</td>\n",
              "      <td>-62.700</td>\n",
              "    </tr>\n",
              "    <tr>\n",
              "      <th>...</th>\n",
              "      <td>...</td>\n",
              "      <td>...</td>\n",
              "      <td>...</td>\n",
              "      <td>...</td>\n",
              "      <td>...</td>\n",
              "      <td>...</td>\n",
              "      <td>...</td>\n",
              "      <td>...</td>\n",
              "      <td>...</td>\n",
              "      <td>...</td>\n",
              "      <td>...</td>\n",
              "    </tr>\n",
              "    <tr>\n",
              "      <th>100993</th>\n",
              "      <td>317427</td>\n",
              "      <td>2017.0</td>\n",
              "      <td>164.100</td>\n",
              "      <td>166.792</td>\n",
              "      <td>16.9100</td>\n",
              "      <td>2030</td>\n",
              "      <td>2820.452720</td>\n",
              "      <td>38.409</td>\n",
              "      <td>1756.946730</td>\n",
              "      <td>2184.780000</td>\n",
              "      <td>125.691</td>\n",
              "    </tr>\n",
              "    <tr>\n",
              "      <th>100994</th>\n",
              "      <td>317427</td>\n",
              "      <td>2018.0</td>\n",
              "      <td>196.006</td>\n",
              "      <td>174.229</td>\n",
              "      <td>16.7200</td>\n",
              "      <td>2030</td>\n",
              "      <td>2913.108880</td>\n",
              "      <td>164.100</td>\n",
              "      <td>2820.452720</td>\n",
              "      <td>1756.946730</td>\n",
              "      <td>31.906</td>\n",
              "    </tr>\n",
              "    <tr>\n",
              "      <th>101003</th>\n",
              "      <td>318815</td>\n",
              "      <td>2017.0</td>\n",
              "      <td>-21.733</td>\n",
              "      <td>30.542</td>\n",
              "      <td>0.8375</td>\n",
              "      <td>2836</td>\n",
              "      <td>25.578925</td>\n",
              "      <td>-24.874</td>\n",
              "      <td>67.206000</td>\n",
              "      <td>81.159900</td>\n",
              "      <td>3.141</td>\n",
              "    </tr>\n",
              "    <tr>\n",
              "      <th>101004</th>\n",
              "      <td>318815</td>\n",
              "      <td>2018.0</td>\n",
              "      <td>-19.156</td>\n",
              "      <td>30.592</td>\n",
              "      <td>0.1550</td>\n",
              "      <td>2836</td>\n",
              "      <td>4.741760</td>\n",
              "      <td>-21.733</td>\n",
              "      <td>25.578925</td>\n",
              "      <td>67.206000</td>\n",
              "      <td>2.577</td>\n",
              "    </tr>\n",
              "    <tr>\n",
              "      <th>101015</th>\n",
              "      <td>319507</td>\n",
              "      <td>2018.0</td>\n",
              "      <td>-13.985</td>\n",
              "      <td>14.833</td>\n",
              "      <td>6.5900</td>\n",
              "      <td>2836</td>\n",
              "      <td>97.749470</td>\n",
              "      <td>-44.810</td>\n",
              "      <td>142.432560</td>\n",
              "      <td>60.590338</td>\n",
              "      <td>30.825</td>\n",
              "    </tr>\n",
              "  </tbody>\n",
              "</table>\n",
              "<p>46222 rows × 11 columns</p>\n",
              "</div>"
            ],
            "text/plain": [
              "         gvkey   fyear     earn  ...      mv_lag1      mv_lag2  earnchg\n",
              "2       001004  2010.0   69.826  ...   777.834800   571.594800   25.198\n",
              "3       001004  2011.0   67.723  ...  1049.820590   777.834800   -2.103\n",
              "4       001004  2012.0   55.000  ...   485.289650  1049.820590  -12.723\n",
              "5       001004  2013.0   72.900  ...   790.002920   485.289650   17.900\n",
              "6       001004  2014.0   10.200  ...   961.308000   790.002920  -62.700\n",
              "...        ...     ...      ...  ...          ...          ...      ...\n",
              "100993  317427  2017.0  164.100  ...  1756.946730  2184.780000  125.691\n",
              "100994  317427  2018.0  196.006  ...  2820.452720  1756.946730   31.906\n",
              "101003  318815  2017.0  -21.733  ...    67.206000    81.159900    3.141\n",
              "101004  318815  2018.0  -19.156  ...    25.578925    67.206000    2.577\n",
              "101015  319507  2018.0  -13.985  ...   142.432560    60.590338   30.825\n",
              "\n",
              "[46222 rows x 11 columns]"
            ]
          },
          "metadata": {
            "tags": []
          },
          "execution_count": 11
        }
      ]
    },
    {
      "cell_type": "code",
      "metadata": {
        "id": "WQ4v1xrtjFVT",
        "colab_type": "code",
        "colab": {}
      },
      "source": [
        "# winsorize before doing scales.\n",
        "varlist=['earn','mv_lag1','mv_lag2','earn_lag1']\n",
        "for var in varlist:\n",
        "    funda1[var] = funda1[var].replace(np.Inf, np.nan)\n",
        "    funda1[var]=np.where(funda1[var].isnull(), np.nan, winsorize(funda1[var], limits=(0.01,0.01)))\n",
        "\n",
        "# Do scales\n",
        "funda1['earn_s']=funda1['earn']/funda1['mv_lag1']\n",
        "funda1['earnchg_s'] = funda1['earnchg']/funda1['mv_lag2']"
      ],
      "execution_count": 0,
      "outputs": []
    },
    {
      "cell_type": "code",
      "metadata": {
        "id": "ovfO2BOHjtbC",
        "colab_type": "code",
        "colab": {}
      },
      "source": [
        "funda3=funda1[['gvkey','fyear','earn_s']]\n",
        "# winsorize again for the scaled variables. \n",
        "funda2=funda3.dropna()\n",
        "funda2.describe()\n",
        "\n",
        "varlist=['earn_s']\n",
        "for var in varlist:\n",
        "    funda2[var] = funda2[var].replace(np.Inf, np.nan)\n",
        "    funda2[var]=np.where(funda2[var].isnull(), np.nan, winsorize(funda2[var], limits=(0.01,0.01)))"
      ],
      "execution_count": 0,
      "outputs": []
    },
    {
      "cell_type": "code",
      "metadata": {
        "id": "4GjLWUxKQZFy",
        "colab_type": "code",
        "outputId": "b43924af-1f12-4bcc-bf49-36f38c7630eb",
        "colab": {
          "base_uri": "https://localhost:8080/",
          "height": 221
        }
      },
      "source": [
        "# Table 1 (Panel B)\n",
        "destable=funda2.describe().transpose()  # pooled sample\n",
        "desearn_s=funda2.groupby('fyear')['earn_s'].describe() # Table 1 Panel B\n",
        "desearn_s = desearn_s.round(decimals=2)\n",
        "desearn_s = desearn_s.drop(desearn_s.columns[[3, 7]], axis=1)\n",
        "print(\"-------------- Table 1 Panel B -------------\")\n",
        "print(desearn_s)"
      ],
      "execution_count": 0,
      "outputs": [
        {
          "output_type": "stream",
          "text": [
            "-------------- Table 1 Panel B -------------\n",
            "         count  mean   std   25%   50%   75%\n",
            "fyear                                       \n",
            "2010.0  5204.0 -0.09  0.49 -0.10  0.03  0.08\n",
            "2011.0  5037.0 -0.07  0.42 -0.09  0.03  0.07\n",
            "2012.0  5040.0 -0.10  0.47 -0.13  0.02  0.07\n",
            "2013.0  5083.0 -0.13  0.51 -0.14  0.01  0.07\n",
            "2014.0  5393.0 -0.16  0.57 -0.15  0.00  0.05\n",
            "2015.0  5351.0 -0.19  0.60 -0.18 -0.01  0.05\n",
            "2016.0  5288.0 -0.21  0.64 -0.19 -0.01  0.05\n",
            "2017.0  5157.0 -0.16  0.57 -0.16  0.00  0.05\n",
            "2018.0  4669.0 -0.12  0.48 -0.13  0.01  0.05\n"
          ],
          "name": "stdout"
        }
      ]
    },
    {
      "cell_type": "code",
      "metadata": {
        "id": "esWHshs-l8vp",
        "colab_type": "code",
        "colab": {}
      },
      "source": [
        "funda4=funda1[['gvkey','fyear','earnchg_s']]\n",
        "# winsorize again for the scaled variables. \n",
        "funda5=funda4.dropna()\n",
        "funda5.describe()\n",
        "\n",
        "varlist=['earnchg_s']\n",
        "for var in varlist:\n",
        "    funda5[var] = funda5[var].replace(np.Inf, np.nan)\n",
        "    funda5[var]=np.where(funda5[var].isnull(), np.nan, winsorize(funda5[var], limits=(0.03,0.03)))"
      ],
      "execution_count": 0,
      "outputs": []
    },
    {
      "cell_type": "code",
      "metadata": {
        "id": "aisPEj0ymSK8",
        "colab_type": "code",
        "outputId": "c993e448-88a2-46e4-8b24-faf3ec43a062",
        "colab": {
          "base_uri": "https://localhost:8080/",
          "height": 221
        }
      },
      "source": [
        "# Table 1 (Panel A)\n",
        "destable=funda5.describe().transpose()  # pooled sample\n",
        "desearn_s=funda5.groupby('fyear')['earnchg_s'].describe() # Table 1 Panel A\n",
        "desearn_s = desearn_s.round(decimals=2)\n",
        "desearn_s = desearn_s.drop(desearn_s.columns[[3, 7]], axis=1)\n",
        "print(\"-------------- Table 1 Panel A -------------\")\n",
        "print(desearn_s)"
      ],
      "execution_count": 0,
      "outputs": [
        {
          "output_type": "stream",
          "text": [
            "-------------- Table 1 Panel A -------------\n",
            "         count  mean   std   25%   50%   75%\n",
            "fyear                                       \n",
            "2010.0  5204.0  0.08  0.37 -0.03  0.02  0.15\n",
            "2011.0  5037.0  0.00  0.29 -0.05  0.01  0.06\n",
            "2012.0  5040.0 -0.00  0.24 -0.05  0.00  0.04\n",
            "2013.0  5083.0  0.01  0.27 -0.05  0.00  0.05\n",
            "2014.0  5393.0  0.00  0.29 -0.05  0.00  0.05\n",
            "2015.0  5351.0 -0.01  0.29 -0.06 -0.00  0.03\n",
            "2016.0  5288.0  0.03  0.30 -0.04  0.00  0.06\n",
            "2017.0  5157.0  0.02  0.32 -0.04  0.01  0.06\n",
            "2018.0  4669.0  0.00  0.28 -0.05  0.00  0.05\n"
          ],
          "name": "stdout"
        }
      ]
    },
    {
      "cell_type": "code",
      "metadata": {
        "id": "uuaHQ1QKQUcY",
        "colab_type": "code",
        "outputId": "cbb96115-7fbc-4255-83ea-f644b742ec0b",
        "colab": {
          "base_uri": "https://localhost:8080/",
          "height": 312
        }
      },
      "source": [
        "# Figure 3\n",
        "\n",
        "plt.hist(funda2['earn_s'], bins=75)\n",
        "plt.axvline(x=0, color='k', linestyle='--')\n",
        "plt.xlabel('Earnings Interval')\n",
        "plt.ylabel('Frequency')\n",
        "plt.title('Fig. 3 Empirical Distribution of Annual Net Income')\n",
        "plt.show"
      ],
      "execution_count": 0,
      "outputs": [
        {
          "output_type": "execute_result",
          "data": {
            "text/plain": [
              "<function matplotlib.pyplot.show>"
            ]
          },
          "metadata": {
            "tags": []
          },
          "execution_count": 19
        },
        {
          "output_type": "display_data",
          "data": {
            "image/png": "[encoded data removed]",
            "text/plain": [
              "<Figure size 432x288 with 1 Axes>"
            ]
          },
          "metadata": {
            "tags": []
          }
        }
      ]
    },
    {
      "cell_type": "code",
      "metadata": {
        "id": "rj7p7SRmo7-m",
        "colab_type": "code",
        "outputId": "4ca9beb4-a6b6-4244-c709-42026682d001",
        "colab": {
          "base_uri": "https://localhost:8080/",
          "height": 312
        }
      },
      "source": [
        "# Figure 1\n",
        "\n",
        "plt.hist(funda5['earnchg_s'], bins=75)\n",
        "plt.axvline(x=0, color='k', linestyle='--')\n",
        "plt.xlabel('Change in Earnings Interval')\n",
        "plt.ylabel('Frequency')\n",
        "plt.title('Fig. 1 Empirical distribution Change in Annual Net Income')\n",
        "plt.show"
      ],
      "execution_count": 0,
      "outputs": [
        {
          "output_type": "execute_result",
          "data": {
            "text/plain": [
              "<function matplotlib.pyplot.show>"
            ]
          },
          "metadata": {
            "tags": []
          },
          "execution_count": 18
        },
        {
          "output_type": "display_data",
          "data": {
            "image/png": "[encoded data removed]",
            "text/plain": [
              "<Figure size 432x288 with 1 Axes>"
            ]
          },
          "metadata": {
            "tags": []
          }
        }
      ]
    },
    {
      "cell_type": "code",
      "metadata": {
        "id": "sA8lcTYFGucg",
        "colab_type": "code",
        "colab": {}
      },
      "source": [
        ""
      ],
      "execution_count": 0,
      "outputs": []
    }
  ]
}
